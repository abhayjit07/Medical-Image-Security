{
 "cells": [
  {
   "cell_type": "code",
   "execution_count": 1,
   "metadata": {},
   "outputs": [
    {
     "name": "stderr",
     "output_type": "stream",
     "text": [
      "c:\\ProgramData\\Anaconda3\\lib\\site-packages\\scipy\\__init__.py:155: UserWarning: A NumPy version >=1.18.5 and <1.25.0 is required for this version of SciPy (detected version 1.26.4\n",
      "  warnings.warn(f\"A NumPy version >={np_minversion} and <{np_maxversion}\"\n"
     ]
    }
   ],
   "source": [
    "import numpy as np\n",
    "import matplotlib.pyplot as plt\n",
    "import pywt\n",
    "import cv2"
   ]
  },
  {
   "cell_type": "code",
   "execution_count": 2,
   "metadata": {},
   "outputs": [],
   "source": [
    "def rdwt(img):\n",
    "\n",
    "    # Performing the Redundant Discrete Wavelet Transform (RDWT) with Haar wavelet\n",
    "    coeffs_org = pywt.swt2(img, 'haar', level=1, axes=(0, 1))\n",
    "\n",
    "    # Extracting the coefficients at each level\n",
    "    A1, (B1, C1, D1) = coeffs_org[0]\n",
    "\n",
    "    #Plotting the coefficients\n",
    "    fig, axs = plt.subplots(2, 2, figsize=(10, 10))\n",
    "\n",
    "    axs[0, 0].imshow(A1, cmap='gray'), axs[0, 0].set_title('A1 (LL)')\n",
    "    axs[0, 1].imshow(B1, cmap='gray'), axs[0, 1].set_title('B1 (LH)')\n",
    "    axs[1, 0].imshow(C1, cmap='gray'), axs[1, 0].set_title('C1 (HL)')\n",
    "    axs[1, 1].imshow(D1, cmap='gray'), axs[1, 1].set_title('D1 (HH)')\n",
    "\n",
    "    # # Adjust layout to prevent clipping\n",
    "    # plt.tight_layout()\n",
    "\n",
    "    # # Showing the plots\n",
    "    # plt.show()\n",
    "\n",
    "    return A1, B1, C1, D1"
   ]
  },
  {
   "cell_type": "code",
   "execution_count": 4,
   "metadata": {},
   "outputs": [
    {
     "ename": "ValueError",
     "evalue": "Input array has fewer dimensions than the specified axes",
     "output_type": "error",
     "traceback": [
      "\u001b[1;31m---------------------------------------------------------------------------\u001b[0m",
      "\u001b[1;31mValueError\u001b[0m                                Traceback (most recent call last)",
      "\u001b[1;32m~\\AppData\\Local\\Temp\\ipykernel_15188\\1825996269.py\u001b[0m in \u001b[0;36m<module>\u001b[1;34m\u001b[0m\n\u001b[0;32m      1\u001b[0m \u001b[0mimg\u001b[0m \u001b[1;33m=\u001b[0m \u001b[0mcv2\u001b[0m\u001b[1;33m.\u001b[0m\u001b[0mimread\u001b[0m\u001b[1;33m(\u001b[0m\u001b[1;34m'assets/input_image_rdwt.png'\u001b[0m\u001b[1;33m,\u001b[0m \u001b[1;36m0\u001b[0m\u001b[1;33m)\u001b[0m\u001b[1;33m\u001b[0m\u001b[1;33m\u001b[0m\u001b[0m\n\u001b[0;32m      2\u001b[0m \u001b[1;33m\u001b[0m\u001b[0m\n\u001b[1;32m----> 3\u001b[1;33m \u001b[0mA1\u001b[0m\u001b[1;33m,\u001b[0m \u001b[0mB1\u001b[0m\u001b[1;33m,\u001b[0m \u001b[0mC1\u001b[0m\u001b[1;33m,\u001b[0m \u001b[0mD1\u001b[0m \u001b[1;33m=\u001b[0m \u001b[0mrdwt\u001b[0m\u001b[1;33m(\u001b[0m\u001b[0mimg\u001b[0m\u001b[1;33m)\u001b[0m\u001b[1;33m\u001b[0m\u001b[1;33m\u001b[0m\u001b[0m\n\u001b[0m\u001b[0;32m      4\u001b[0m \u001b[1;33m\u001b[0m\u001b[0m\n\u001b[0;32m      5\u001b[0m \u001b[1;31m# Saving the generated images as one image\u001b[0m\u001b[1;33m\u001b[0m\u001b[1;33m\u001b[0m\u001b[0m\n",
      "\u001b[1;32m~\\AppData\\Local\\Temp\\ipykernel_15188\\1279167167.py\u001b[0m in \u001b[0;36mrdwt\u001b[1;34m(img)\u001b[0m\n\u001b[0;32m      2\u001b[0m \u001b[1;33m\u001b[0m\u001b[0m\n\u001b[0;32m      3\u001b[0m     \u001b[1;31m# Performing the Redundant Discrete Wavelet Transform (RDWT) with Haar wavelet\u001b[0m\u001b[1;33m\u001b[0m\u001b[1;33m\u001b[0m\u001b[0m\n\u001b[1;32m----> 4\u001b[1;33m     \u001b[0mcoeffs_org\u001b[0m \u001b[1;33m=\u001b[0m \u001b[0mpywt\u001b[0m\u001b[1;33m.\u001b[0m\u001b[0mswt2\u001b[0m\u001b[1;33m(\u001b[0m\u001b[0mimg\u001b[0m\u001b[1;33m,\u001b[0m \u001b[1;34m'haar'\u001b[0m\u001b[1;33m,\u001b[0m \u001b[0mlevel\u001b[0m\u001b[1;33m=\u001b[0m\u001b[1;36m1\u001b[0m\u001b[1;33m,\u001b[0m \u001b[0maxes\u001b[0m\u001b[1;33m=\u001b[0m\u001b[1;33m(\u001b[0m\u001b[1;36m0\u001b[0m\u001b[1;33m,\u001b[0m \u001b[1;36m1\u001b[0m\u001b[1;33m)\u001b[0m\u001b[1;33m)\u001b[0m\u001b[1;33m\u001b[0m\u001b[1;33m\u001b[0m\u001b[0m\n\u001b[0m\u001b[0;32m      5\u001b[0m \u001b[1;33m\u001b[0m\u001b[0m\n\u001b[0;32m      6\u001b[0m     \u001b[1;31m# Extracting the coefficients at each level\u001b[0m\u001b[1;33m\u001b[0m\u001b[1;33m\u001b[0m\u001b[0m\n",
      "\u001b[1;32mc:\\ProgramData\\Anaconda3\\lib\\site-packages\\pywt\\_swt.py\u001b[0m in \u001b[0;36mswt2\u001b[1;34m(data, wavelet, level, start_level, axes, trim_approx, norm)\u001b[0m\n\u001b[0;32m    362\u001b[0m         \u001b[1;32mraise\u001b[0m \u001b[0mValueError\u001b[0m\u001b[1;33m(\u001b[0m\u001b[1;34m\"The axes passed to swt2 must be unique.\"\u001b[0m\u001b[1;33m)\u001b[0m\u001b[1;33m\u001b[0m\u001b[1;33m\u001b[0m\u001b[0m\n\u001b[0;32m    363\u001b[0m     \u001b[1;32mif\u001b[0m \u001b[0mdata\u001b[0m\u001b[1;33m.\u001b[0m\u001b[0mndim\u001b[0m \u001b[1;33m<\u001b[0m \u001b[0mlen\u001b[0m\u001b[1;33m(\u001b[0m\u001b[0mnp\u001b[0m\u001b[1;33m.\u001b[0m\u001b[0munique\u001b[0m\u001b[1;33m(\u001b[0m\u001b[0maxes\u001b[0m\u001b[1;33m)\u001b[0m\u001b[1;33m)\u001b[0m\u001b[1;33m:\u001b[0m\u001b[1;33m\u001b[0m\u001b[1;33m\u001b[0m\u001b[0m\n\u001b[1;32m--> 364\u001b[1;33m         raise ValueError(\"Input array has fewer dimensions than the specified \"\n\u001b[0m\u001b[0;32m    365\u001b[0m                          \"axes\")\n\u001b[0;32m    366\u001b[0m \u001b[1;33m\u001b[0m\u001b[0m\n",
      "\u001b[1;31mValueError\u001b[0m: Input array has fewer dimensions than the specified axes"
     ]
    }
   ],
   "source": [
    "img = cv2.imread('assets/input_image_rdwt.png', 0)\n",
    "\n",
    "A1, B1, C1, D1 = rdwt(img)\n",
    "\n",
    "# Saving the generated images as one image\n",
    "A2 = np.concatenate((A1, B1), axis=1)\n",
    "C2 = np.concatenate((C1, D1), axis=1)\n",
    "A2 = np.concatenate((A2, C2), axis=0)\n",
    "\n",
    "cv2.imwrite('generated_assets/image_rdwt.png', A2)\n"
   ]
  },
  {
   "cell_type": "code",
   "execution_count": null,
   "metadata": {},
   "outputs": [],
   "source": [
    "def irdwt(coefficients, wavelet='haar'):\n",
    "    # Inverse wavelet transform\n",
    "    irdwt_result = pywt.idwt(coefficients[0], coefficients[1], wavelet, axis=-1)\n",
    "    return irdwt_result"
   ]
  },
  {
   "cell_type": "code",
   "execution_count": null,
   "metadata": {},
   "outputs": [],
   "source": [
    "combined_coeffs = [A1, B1, C1, D1]\n",
    "mark_img = irdwt(combined_coeffs)\n",
    "\n",
    "mark_img_resized = cv2.resize(mark_img, (img.shape[1], img.shape[0]), interpolation=cv2.INTER_CUBIC)\n",
    "\n",
    "# Display the original and the resized reconstructed image\n",
    "fig, axs = plt.subplots(1, 2, figsize=(10, 10))\n",
    "\n",
    "axs[0].imshow(img, cmap='gray')\n",
    "axs[0].set_title('Original Image')\n",
    "\n",
    "axs[1].imshow(mark_img_resized, cmap='gray')\n",
    "axs[1].set_title('Reconstructed Image')\n",
    "\n",
    "\n",
    "plt.savefig('generated_assets/irdwt.png')\n",
    "# Adjust layout to prevent clipping\n",
    "# plt.tight_layout()\n",
    "# plt.show()"
   ]
  }
 ],
 "metadata": {
  "kernelspec": {
   "display_name": "Python 3",
   "language": "python",
   "name": "python3"
  },
  "language_info": {
   "codemirror_mode": {
    "name": "ipython",
    "version": 3
   },
   "file_extension": ".py",
   "mimetype": "text/x-python",
   "name": "python",
   "nbconvert_exporter": "python",
   "pygments_lexer": "ipython3",
   "version": "3.9.13"
  }
 },
 "nbformat": 4,
 "nbformat_minor": 2
}
