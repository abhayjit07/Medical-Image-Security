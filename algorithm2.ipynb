{
 "cells": [
  {
   "cell_type": "code",
   "execution_count": 6,
   "metadata": {},
   "outputs": [],
   "source": [
    "import cv2\n",
    "import numpy as np\n",
    "import matplotlib.pyplot as plt\n",
    "import pywt\n",
    "from modules.rdwt import rdwt\n",
    "from modules.irdwt import irdwt\n",
    "from modules.rsvd import rsvd\n",
    "from modules.algorithm1 import algorithm_1\n",
    "from modules.arnold_cat_map import arnold_scramble"
   ]
  },
  {
   "cell_type": "code",
   "execution_count": 10,
   "metadata": {},
   "outputs": [],
   "source": [
    "def algorithm_2(path1, path2):\n",
    "\n",
    "    img1 = cv2.imread(path1, 0)\n",
    "    img2 = cv2.imread(path2, 0)\n",
    "\n",
    "    img1_norm = cv2.normalize(img1, None, alpha=0, beta=1, norm_type=cv2.NORM_MINMAX, dtype=cv2.CV_32F)       # trial normalization, for now\n",
    "\n",
    "    A1, B1, C1, D1 = rdwt(img1_norm)\n",
    "    U1, S1, V1 = rsvd(D1, 200)       # target rank is 200\n",
    "\n",
    "    A2, B2, C2, D2 = rdwt(img2)\n",
    "    U2, S2, V2 = rsvd(D2, 200)       # target rank is 200\n",
    "\n",
    "    PC1, PC2 = algorithm_1(path1, path2)\n",
    "\n",
    "    S_PC = U2 @ S2\n",
    "\n",
    "    # Rectify this code, there is some error\n",
    "    S_emb = PC1*S1 + PC2*S_PC\n",
    "\n",
    "    D_new = U1 @ S_emb @ V1.T\n",
    "\n",
    "    mark_img = irdwt(A1, B1, C1, D_new)\n",
    "\n",
    "    enc_img = arnold_scramble(mark_img, 53)   # 53 is the key here\n",
    "\n",
    "    return enc_img"
   ]
  },
  {
   "cell_type": "code",
   "execution_count": 11,
   "metadata": {},
   "outputs": [],
   "source": [
    "path1 = 'cameraman.png'\n",
    "path2 = 'cameraman.png'"
   ]
  },
  {
   "cell_type": "code",
   "execution_count": 12,
   "metadata": {},
   "outputs": [
    {
     "ename": "ValueError",
     "evalue": "operands could not be broadcast together with shapes (200,) (512,) ",
     "output_type": "error",
     "traceback": [
      "\u001b[1;31m---------------------------------------------------------------------------\u001b[0m",
      "\u001b[1;31mValueError\u001b[0m                                Traceback (most recent call last)",
      "Cell \u001b[1;32mIn[12], line 1\u001b[0m\n\u001b[1;32m----> 1\u001b[0m img_final \u001b[38;5;241m=\u001b[39m \u001b[43malgorithm_2\u001b[49m\u001b[43m(\u001b[49m\u001b[43mpath1\u001b[49m\u001b[43m,\u001b[49m\u001b[43m \u001b[49m\u001b[43mpath2\u001b[49m\u001b[43m)\u001b[49m\n",
      "Cell \u001b[1;32mIn[10], line 19\u001b[0m, in \u001b[0;36malgorithm_2\u001b[1;34m(path1, path2)\u001b[0m\n\u001b[0;32m     16\u001b[0m S_PC \u001b[38;5;241m=\u001b[39m U2 \u001b[38;5;241m@\u001b[39m S2\n\u001b[0;32m     18\u001b[0m \u001b[38;5;66;03m# Complete this code\u001b[39;00m\n\u001b[1;32m---> 19\u001b[0m S_emb \u001b[38;5;241m=\u001b[39m \u001b[43mPC1\u001b[49m\u001b[38;5;241;43m*\u001b[39;49m\u001b[43mS1\u001b[49m\u001b[43m \u001b[49m\u001b[38;5;241;43m+\u001b[39;49m\u001b[43m \u001b[49m\u001b[43mPC2\u001b[49m\u001b[38;5;241;43m*\u001b[39;49m\u001b[43mS_PC\u001b[49m\n\u001b[0;32m     21\u001b[0m D_new \u001b[38;5;241m=\u001b[39m U1 \u001b[38;5;241m@\u001b[39m S_emb \u001b[38;5;241m@\u001b[39m V1\u001b[38;5;241m.\u001b[39mT\n\u001b[0;32m     23\u001b[0m mark_img \u001b[38;5;241m=\u001b[39m irdwt(A1, B1, C1, D_new)\n",
      "\u001b[1;31mValueError\u001b[0m: operands could not be broadcast together with shapes (200,) (512,) "
     ]
    }
   ],
   "source": [
    "img_final = algorithm_2(path1, path2)"
   ]
  },
  {
   "cell_type": "code",
   "execution_count": null,
   "metadata": {},
   "outputs": [],
   "source": []
  }
 ],
 "metadata": {
  "kernelspec": {
   "display_name": "Python 3",
   "language": "python",
   "name": "python3"
  },
  "language_info": {
   "codemirror_mode": {
    "name": "ipython",
    "version": 3
   },
   "file_extension": ".py",
   "mimetype": "text/x-python",
   "name": "python",
   "nbconvert_exporter": "python",
   "pygments_lexer": "ipython3",
   "version": "3.10.4"
  }
 },
 "nbformat": 4,
 "nbformat_minor": 2
}
