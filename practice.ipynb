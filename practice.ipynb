{
 "cells": [
  {
   "cell_type": "code",
   "execution_count": 3,
   "metadata": {},
   "outputs": [],
   "source": [
    "import numpy as np\n",
    "\n",
    "def haar_wavelet_transform(signal):\n",
    "    length = len(signal)\n",
    "    if length % 2 != 0:\n",
    "        raise ValueError(\"Input signal length must be even for Haar wavelet transform.\")\n",
    "\n",
    "    h = np.array([1, 1]) / np.sqrt(2)\n",
    "    g = np.array([1, -1]) / np.sqrt(2)\n",
    "\n",
    "    # Forward transform\n",
    "    approx = np.convolve(signal, h, mode='valid')[::2]\n",
    "    detail = np.convolve(signal, g, mode='valid')[::2]\n",
    "\n",
    "    return approx, detail\n",
    "\n",
    "def inverse_haar_wavelet_transform(approx, detail):\n",
    "    h = np.array([1, 1]) / np.sqrt(2)\n",
    "    g = np.array([1, -1]) / np.sqrt(2)\n",
    "\n",
    "    # Upsample and convolve to reconstruct\n",
    "    approx_upsampled = np.zeros(2 * len(approx))\n",
    "    detail_upsampled = np.zeros(2 * len(detail))\n",
    "\n",
    "    approx_upsampled[::2] = approx\n",
    "    detail_upsampled[::2] = detail\n",
    "\n",
    "    signal_reconstructed = np.convolve(approx_upsampled, h, mode='full')[:-1] + np.convolve(detail_upsampled, g, mode='full')[:-1]\n",
    "\n",
    "    return signal_reconstructed\n",
    "\n",
    "def haar_wavelet_2d_transform(image):\n",
    "    rows, cols = image.shape\n",
    "    approx_coeffs = np.zeros_like(image, dtype=float)\n",
    "    detail_coeffs = np.zeros_like(image, dtype=float)\n",
    "\n",
    "    for i in range(rows):\n",
    "        approx_row, detail_row = haar_wavelet_transform(image[i, :])\n",
    "        approx_coeffs[i, :len(approx_row)] = approx_row\n",
    "        detail_coeffs[i, :len(detail_row)] = detail_row\n",
    "\n",
    "    for j in range(cols):\n",
    "        approx_col, detail_col = haar_wavelet_transform(approx_coeffs[:, j])\n",
    "        approx_coeffs[:len(approx_col), j] = approx_col\n",
    "        detail_coeffs[:len(detail_col), j] = detail_col\n",
    "\n",
    "    return approx_coeffs, detail_coeffs\n",
    "\n",
    "def inverse_haar_wavelet_2d_transform(approx_coeffs, detail_coeffs):\n",
    "    rows, cols = approx_coeffs.shape\n",
    "    reconstructed_image = np.zeros_like(approx_coeffs, dtype=float)\n",
    "\n",
    "    for j in range(cols):\n",
    "        approx_col = approx_coeffs[:, j]\n",
    "        detail_col = detail_coeffs[:, j]\n",
    "\n",
    "        reconstructed_col = inverse_haar_wavelet_transform(approx_col, detail_col)\n",
    "        reconstructed_image[:, j] = reconstructed_col[:rows]  # Adjust shape\n",
    "\n",
    "    for i in range(rows):\n",
    "        approx_row = reconstructed_image[i, :]\n",
    "        detail_row = detail_coeffs[i, :]\n",
    "\n",
    "        reconstructed_row = inverse_haar_wavelet_transform(approx_row, detail_row)\n",
    "        reconstructed_image[i, :] = reconstructed_row[:cols]  # Adjust shape\n",
    "\n",
    "    return reconstructed_image\n",
    "\n",
    "# Example usage\n",
    "original_image = np.random.random((512, 512))\n",
    "approx_coeffs, detail_coeffs = haar_wavelet_2d_transform(original_image)\n",
    "reconstructed_image = inverse_haar_wavelet_2d_transform(approx_coeffs, detail_coeffs)\n"
   ]
  },
  {
   "cell_type": "code",
   "execution_count": 4,
   "metadata": {},
   "outputs": [
    {
     "name": "stdout",
     "output_type": "stream",
     "text": [
      "[[6.24023349e-01 3.15461508e-01 2.14006193e-01 ... 8.82481919e-01\n",
      "  7.79420394e-01 7.99767319e-01]\n",
      " [3.77284493e-01 2.25746333e-01 3.34271519e-01 ... 7.34718363e-02\n",
      "  4.52309410e-01 2.01093427e-01]\n",
      " [8.78530449e-01 2.67981630e-01 7.40358278e-01 ... 8.51699414e-01\n",
      "  1.35962317e-04 2.94775598e-01]\n",
      " ...\n",
      " [2.90069324e-01 7.69977214e-01 4.69166291e-01 ... 1.32808497e-01\n",
      "  1.55471711e-01 7.28742251e-01]\n",
      " [1.40993217e-01 6.78607734e-01 4.93503821e-01 ... 8.07397003e-01\n",
      "  3.48022096e-01 4.41742948e-01]\n",
      " [2.17872018e-01 8.94008472e-02 4.63359862e-01 ... 6.20878396e-01\n",
      "  8.07021154e-01 2.46888911e-01]]\n"
     ]
    }
   ],
   "source": [
    "print(original_image)"
   ]
  },
  {
   "cell_type": "code",
   "execution_count": 7,
   "metadata": {},
   "outputs": [
    {
     "name": "stdout",
     "output_type": "stream",
     "text": [
      "(512, 512)\n"
     ]
    }
   ],
   "source": [
    "print(detail_coeffs.shape)"
   ]
  },
  {
   "cell_type": "code",
   "execution_count": null,
   "metadata": {},
   "outputs": [],
   "source": []
  }
 ],
 "metadata": {
  "kernelspec": {
   "display_name": "Python 3",
   "language": "python",
   "name": "python3"
  },
  "language_info": {
   "codemirror_mode": {
    "name": "ipython",
    "version": 3
   },
   "file_extension": ".py",
   "mimetype": "text/x-python",
   "name": "python",
   "nbconvert_exporter": "python",
   "pygments_lexer": "ipython3",
   "version": "3.10.4"
  }
 },
 "nbformat": 4,
 "nbformat_minor": 2
}
