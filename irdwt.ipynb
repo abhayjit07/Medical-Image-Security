{
 "cells": [
  {
   "cell_type": "code",
   "execution_count": 9,
   "metadata": {},
   "outputs": [],
   "source": [
    "import cv2\n",
    "import numpy as np\n",
    "import matplotlib.pyplot as plt\n",
    "import pywt\n",
    "\n",
    "def irdwt(A1, B1, C1, D1, wavelet='haar'):\n",
    "    # Combine components into a matrix\n",
    "    combined_matrix = np.vstack([np.hstack([A1, B1]), np.hstack([C1, D1])])\n",
    "\n",
    "    # Inverse wavelet transform along rows\n",
    "    rows_inverse = pywt.idwt(combined_matrix[0, :], combined_matrix[1, :], wavelet, axis=-1)\n",
    "\n",
    "    # Inverse wavelet transform along columns\n",
    "    irdwt_result = pywt.idwt(rows_inverse[0, :], rows_inverse[1, :], wavelet, axis=0)\n",
    "\n",
    "    return irdwt_result"
   ]
  },
  {
   "cell_type": "code",
   "execution_count": 13,
   "metadata": {},
   "outputs": [],
   "source": []
  },
  {
   "cell_type": "code",
   "execution_count": null,
   "metadata": {},
   "outputs": [],
   "source": []
  }
 ],
 "metadata": {
  "kernelspec": {
   "display_name": "Python 3",
   "language": "python",
   "name": "python3"
  },
  "language_info": {
   "codemirror_mode": {
    "name": "ipython",
    "version": 3
   },
   "file_extension": ".py",
   "mimetype": "text/x-python",
   "name": "python",
   "nbconvert_exporter": "python",
   "pygments_lexer": "ipython3",
   "version": "3.10.4"
  }
 },
 "nbformat": 4,
 "nbformat_minor": 2
}
